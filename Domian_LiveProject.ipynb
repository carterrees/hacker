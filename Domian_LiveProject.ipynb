{
  "nbformat": 4,
  "nbformat_minor": 0,
  "metadata": {
    "colab": {
      "name": "Domian_LiveProject.ipynb",
      "provenance": [],
      "authorship_tag": "ABX9TyNz6qIzK0UN/nrHIlpXxUgZ",
      "include_colab_link": true
    },
    "kernelspec": {
      "name": "python3",
      "display_name": "Python 3"
    }
  },
  "cells": [
    {
      "cell_type": "markdown",
      "metadata": {
        "id": "view-in-github",
        "colab_type": "text"
      },
      "source": [
        "<a href=\"https://colab.research.google.com/github/carterrees/hacker/blob/master/Domian_LiveProject.ipynb\" target=\"_parent\"><img src=\"https://colab.research.google.com/assets/colab-badge.svg\" alt=\"Open In Colab\"/></a>"
      ]
    },
    {
      "cell_type": "code",
      "metadata": {
        "id": "UlUk3k9xLIUD",
        "colab_type": "code",
        "colab": {}
      },
      "source": [
        "import gzip\n",
        "import pandas as pd\n",
        "from urllib.request import urlopen\n",
        "from io import StringIO\n"
      ],
      "execution_count": 0,
      "outputs": []
    },
    {
      "cell_type": "code",
      "metadata": {
        "id": "MZ5pHSsNMYhx",
        "colab_type": "code",
        "colab": {}
      },
      "source": [
        "\n",
        "url = urlopen('https://liveproject-resources.s3.amazonaws.com/116/other/stackexchange_812k.csv.gz')\n",
        "f = gzip.open(url, 'rb')\n",
        "file_content = f.read()\n",
        "f.close()\n",
        "s=str(file_content,'utf-8')\n",
        "data = StringIO(s) \n",
        "df=pd.read_csv(data)"
      ],
      "execution_count": 0,
      "outputs": []
    },
    {
      "cell_type": "code",
      "metadata": {
        "id": "ZhDrNFP8Mba8",
        "colab_type": "code",
        "colab": {
          "base_uri": "https://localhost:8080/",
          "height": 204
        },
        "outputId": "75596d08-d8c9-4c2f-cec1-afce5470af0c"
      },
      "source": [
        "df.head()"
      ],
      "execution_count": 17,
      "outputs": [
        {
          "output_type": "execute_result",
          "data": {
            "text/html": [
              "<div>\n",
              "<style scoped>\n",
              "    .dataframe tbody tr th:only-of-type {\n",
              "        vertical-align: middle;\n",
              "    }\n",
              "\n",
              "    .dataframe tbody tr th {\n",
              "        vertical-align: top;\n",
              "    }\n",
              "\n",
              "    .dataframe thead th {\n",
              "        text-align: right;\n",
              "    }\n",
              "</style>\n",
              "<table border=\"1\" class=\"dataframe\">\n",
              "  <thead>\n",
              "    <tr style=\"text-align: right;\">\n",
              "      <th></th>\n",
              "      <th>post_id</th>\n",
              "      <th>parent_id</th>\n",
              "      <th>comment_id</th>\n",
              "      <th>text</th>\n",
              "      <th>category</th>\n",
              "    </tr>\n",
              "  </thead>\n",
              "  <tbody>\n",
              "    <tr>\n",
              "      <th>0</th>\n",
              "      <td>1</td>\n",
              "      <td>NaN</td>\n",
              "      <td>NaN</td>\n",
              "      <td>Eliciting priors from experts</td>\n",
              "      <td>title</td>\n",
              "    </tr>\n",
              "    <tr>\n",
              "      <th>1</th>\n",
              "      <td>2</td>\n",
              "      <td>NaN</td>\n",
              "      <td>NaN</td>\n",
              "      <td>What is normality?</td>\n",
              "      <td>title</td>\n",
              "    </tr>\n",
              "    <tr>\n",
              "      <th>2</th>\n",
              "      <td>3</td>\n",
              "      <td>NaN</td>\n",
              "      <td>NaN</td>\n",
              "      <td>What are some valuable Statistical Analysis op...</td>\n",
              "      <td>title</td>\n",
              "    </tr>\n",
              "    <tr>\n",
              "      <th>3</th>\n",
              "      <td>4</td>\n",
              "      <td>NaN</td>\n",
              "      <td>NaN</td>\n",
              "      <td>Assessing the significance of differences in d...</td>\n",
              "      <td>title</td>\n",
              "    </tr>\n",
              "    <tr>\n",
              "      <th>4</th>\n",
              "      <td>6</td>\n",
              "      <td>NaN</td>\n",
              "      <td>NaN</td>\n",
              "      <td>The Two Cultures: statistics vs. machine learn...</td>\n",
              "      <td>title</td>\n",
              "    </tr>\n",
              "  </tbody>\n",
              "</table>\n",
              "</div>"
            ],
            "text/plain": [
              "   post_id  ...  category\n",
              "0        1  ...     title\n",
              "1        2  ...     title\n",
              "2        3  ...     title\n",
              "3        4  ...     title\n",
              "4        6  ...     title\n",
              "\n",
              "[5 rows x 5 columns]"
            ]
          },
          "metadata": {
            "tags": []
          },
          "execution_count": 17
        }
      ]
    },
    {
      "cell_type": "code",
      "metadata": {
        "id": "ECGXKObyMxdR",
        "colab_type": "code",
        "colab": {
          "base_uri": "https://localhost:8080/",
          "height": 204
        },
        "outputId": "ab341f3d-745e-4c5c-f8a1-59b869a734fe"
      },
      "source": [
        "df.tail()"
      ],
      "execution_count": 18,
      "outputs": [
        {
          "output_type": "execute_result",
          "data": {
            "text/html": [
              "<div>\n",
              "<style scoped>\n",
              "    .dataframe tbody tr th:only-of-type {\n",
              "        vertical-align: middle;\n",
              "    }\n",
              "\n",
              "    .dataframe tbody tr th {\n",
              "        vertical-align: top;\n",
              "    }\n",
              "\n",
              "    .dataframe thead th {\n",
              "        text-align: right;\n",
              "    }\n",
              "</style>\n",
              "<table border=\"1\" class=\"dataframe\">\n",
              "  <thead>\n",
              "    <tr style=\"text-align: right;\">\n",
              "      <th></th>\n",
              "      <th>post_id</th>\n",
              "      <th>parent_id</th>\n",
              "      <th>comment_id</th>\n",
              "      <th>text</th>\n",
              "      <th>category</th>\n",
              "    </tr>\n",
              "  </thead>\n",
              "  <tbody>\n",
              "    <tr>\n",
              "      <th>812127</th>\n",
              "      <td>279994</td>\n",
              "      <td>NaN</td>\n",
              "      <td>536471.0</td>\n",
              "      <td>It does run, and gives very valid looking esti...</td>\n",
              "      <td>comment</td>\n",
              "    </tr>\n",
              "    <tr>\n",
              "      <th>812128</th>\n",
              "      <td>279998</td>\n",
              "      <td>NaN</td>\n",
              "      <td>536439.0</td>\n",
              "      <td>It seems to me that you are correct; the doubl...</td>\n",
              "      <td>comment</td>\n",
              "    </tr>\n",
              "    <tr>\n",
              "      <th>812129</th>\n",
              "      <td>279998</td>\n",
              "      <td>NaN</td>\n",
              "      <td>536514.0</td>\n",
              "      <td>It wouldn't be the first time a grader has mis...</td>\n",
              "      <td>comment</td>\n",
              "    </tr>\n",
              "    <tr>\n",
              "      <th>812130</th>\n",
              "      <td>279999</td>\n",
              "      <td>NaN</td>\n",
              "      <td>536802.0</td>\n",
              "      <td>The basic idea is to compare the clustering co...</td>\n",
              "      <td>comment</td>\n",
              "    </tr>\n",
              "    <tr>\n",
              "      <th>812131</th>\n",
              "      <td>279999</td>\n",
              "      <td>NaN</td>\n",
              "      <td>542550.0</td>\n",
              "      <td>As per your other question, your data does not...</td>\n",
              "      <td>comment</td>\n",
              "    </tr>\n",
              "  </tbody>\n",
              "</table>\n",
              "</div>"
            ],
            "text/plain": [
              "        post_id  ...  category\n",
              "812127   279994  ...   comment\n",
              "812128   279998  ...   comment\n",
              "812129   279998  ...   comment\n",
              "812130   279999  ...   comment\n",
              "812131   279999  ...   comment\n",
              "\n",
              "[5 rows x 5 columns]"
            ]
          },
          "metadata": {
            "tags": []
          },
          "execution_count": 18
        }
      ]
    },
    {
      "cell_type": "code",
      "metadata": {
        "id": "fFY3VUmkNi6F",
        "colab_type": "code",
        "colab": {
          "base_uri": "https://localhost:8080/",
          "height": 221
        },
        "outputId": "b87a5210-c07e-4626-f3ee-8a86b83a30de"
      },
      "source": [
        "df['parent_id'].value_counts()"
      ],
      "execution_count": 21,
      "outputs": [
        {
          "output_type": "execute_result",
          "data": {
            "text/plain": [
              "726.0       79\n",
              "423.0       40\n",
              "1337.0      38\n",
              "4551.0      34\n",
              "5115.0      24\n",
              "            ..\n",
              "336589.0     1\n",
              "336581.0     1\n",
              "84145.0      1\n",
              "21036.0      1\n",
              "288199.0     1\n",
              "Name: parent_id, Length: 59471, dtype: int64"
            ]
          },
          "metadata": {
            "tags": []
          },
          "execution_count": 21
        }
      ]
    },
    {
      "cell_type": "code",
      "metadata": {
        "id": "L3re7E3rNpsl",
        "colab_type": "code",
        "colab": {}
      },
      "source": [
        ""
      ],
      "execution_count": 0,
      "outputs": []
    }
  ]
}